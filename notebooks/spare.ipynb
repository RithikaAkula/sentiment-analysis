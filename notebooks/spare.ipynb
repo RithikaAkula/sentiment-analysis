{
 "cells": [
  {
   "cell_type": "code",
   "execution_count": 1,
   "id": "ad4d92ba",
   "metadata": {},
   "outputs": [],
   "source": [
    "import numba\n",
    "from numba import jit, cuda\n",
    "import numpy as np\n",
    "# to measure exec time\n",
    "from timeit import default_timer as timer"
   ]
  },
  {
   "cell_type": "code",
   "execution_count": 2,
   "id": "86d7b02f",
   "metadata": {},
   "outputs": [],
   "source": [
    "# normal function to run on cpu\n",
    "def func(a):\t\t\t\t\t\t\t\n",
    "\tfor i in range(10000000):\n",
    "\t\ta[i]+= 1\t"
   ]
  },
  {
   "cell_type": "code",
   "execution_count": 3,
   "id": "4771abd8",
   "metadata": {},
   "outputs": [],
   "source": [
    "# function optimized to run on gpu\n",
    "@numba.jit\t\t\t\t\n",
    "def func2(a):\n",
    "\tfor i in range(10000000):\n",
    "\t\ta[i]+= 1"
   ]
  },
  {
   "cell_type": "code",
   "execution_count": 4,
   "id": "705177fa",
   "metadata": {},
   "outputs": [
    {
     "name": "stdout",
     "output_type": "stream",
     "text": [
      "without GPU: 2.7243428000001586\n",
      "with GPU: 0.26290749999861873\n"
     ]
    }
   ],
   "source": [
    "n = 10000000\t\t\t\t\t\t\n",
    "a = np.ones(n, dtype = np.float64)\n",
    "b = np.ones(n, dtype = np.float32)\n",
    "\n",
    "start = timer()\n",
    "func(a)\n",
    "print(\"without GPU:\", timer()-start)\n",
    "\n",
    "start = timer()\n",
    "func2(a)\n",
    "print(\"with GPU:\", timer()-start)"
   ]
  },
  {
   "cell_type": "code",
   "execution_count": null,
   "id": "55183efa",
   "metadata": {},
   "outputs": [],
   "source": []
  }
 ],
 "metadata": {
  "kernelspec": {
   "display_name": "Python 3 (ipykernel)",
   "language": "python",
   "name": "python3"
  },
  "language_info": {
   "codemirror_mode": {
    "name": "ipython",
    "version": 3
   },
   "file_extension": ".py",
   "mimetype": "text/x-python",
   "name": "python",
   "nbconvert_exporter": "python",
   "pygments_lexer": "ipython3",
   "version": "3.10.1"
  }
 },
 "nbformat": 4,
 "nbformat_minor": 5
}
